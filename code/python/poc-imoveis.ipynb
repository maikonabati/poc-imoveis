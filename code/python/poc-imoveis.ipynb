{
 "cells": [
  {
   "cell_type": "code",
   "execution_count": 43,
   "metadata": {},
   "outputs": [],
   "source": [
    "import pandas as pd\n",
    "import numpy as np\n",
    "\n",
    "import seaborn as sns\n",
    "import matplotlib.pyplot as plt"
   ]
  },
  {
   "cell_type": "code",
   "execution_count": 2,
   "metadata": {},
   "outputs": [],
   "source": [
    "df = pd.read_excel('../../dist/base_123i.xlsx')"
   ]
  },
  {
   "cell_type": "code",
   "execution_count": 38,
   "metadata": {},
   "outputs": [],
   "source": [
    "def fnc_Dummies(df):\n",
    "    for cat_feature in df.select_dtypes(include=['object']).columns:\n",
    "        df[cat_feature] = pd.Categorical(df[cat_feature]).codes\n",
    "        df[cat_feature] = df[cat_feature].replace(-1,np.nan)\n",
    "    return pd.DataFrame(df)"
   ]
  },
  {
   "cell_type": "code",
   "execution_count": 31,
   "metadata": {},
   "outputs": [],
   "source": [
    "df_new = df[(df['rooms']>-1)&(df['point_estimate']>-1)&(df['garages']>-1)].copy()"
   ]
  },
  {
   "cell_type": "code",
   "execution_count": 37,
   "metadata": {},
   "outputs": [
    {
     "data": {
      "text/html": [
       "<div>\n",
       "<style scoped>\n",
       "    .dataframe tbody tr th:only-of-type {\n",
       "        vertical-align: middle;\n",
       "    }\n",
       "\n",
       "    .dataframe tbody tr th {\n",
       "        vertical-align: top;\n",
       "    }\n",
       "\n",
       "    .dataframe thead th {\n",
       "        text-align: right;\n",
       "    }\n",
       "</style>\n",
       "<table border=\"1\" class=\"dataframe\">\n",
       "  <thead>\n",
       "    <tr style=\"text-align: right;\">\n",
       "      <th></th>\n",
       "      <th>city</th>\n",
       "      <th>state</th>\n",
       "      <th>address</th>\n",
       "      <th>tower_name</th>\n",
       "      <th>building_type</th>\n",
       "      <th>rooms</th>\n",
       "      <th>garages</th>\n",
       "      <th>useful_area</th>\n",
       "      <th>latitude</th>\n",
       "      <th>longitude</th>\n",
       "      <th>point_estimate</th>\n",
       "      <th>minimum_estimate</th>\n",
       "      <th>maximum_estimate</th>\n",
       "    </tr>\n",
       "  </thead>\n",
       "  <tbody>\n",
       "    <tr>\n",
       "      <th>0</th>\n",
       "      <td>São Paulo</td>\n",
       "      <td>sp</td>\n",
       "      <td>Alameda Itu, 254</td>\n",
       "      <td>Torre única</td>\n",
       "      <td>Apartamento</td>\n",
       "      <td>3</td>\n",
       "      <td>1</td>\n",
       "      <td>177</td>\n",
       "      <td>-23.56619840</td>\n",
       "      <td>-46.65689950</td>\n",
       "      <td>2111490</td>\n",
       "      <td>1794760</td>\n",
       "      <td>2428210</td>\n",
       "    </tr>\n",
       "    <tr>\n",
       "      <th>1</th>\n",
       "      <td>São Paulo</td>\n",
       "      <td>sp</td>\n",
       "      <td>Alameda Santos, 1398</td>\n",
       "      <td>Torre única</td>\n",
       "      <td>Apartamento</td>\n",
       "      <td>2</td>\n",
       "      <td>1</td>\n",
       "      <td>65</td>\n",
       "      <td>-23.56387020</td>\n",
       "      <td>-46.65560060</td>\n",
       "      <td>608870</td>\n",
       "      <td>517539</td>\n",
       "      <td>700200</td>\n",
       "    </tr>\n",
       "    <tr>\n",
       "      <th>2</th>\n",
       "      <td>São Paulo</td>\n",
       "      <td>sp</td>\n",
       "      <td>Avenida Paulista, 1195</td>\n",
       "      <td>Torre única</td>\n",
       "      <td>Apartamento</td>\n",
       "      <td>3</td>\n",
       "      <td>1</td>\n",
       "      <td>170</td>\n",
       "      <td>-23.56406910</td>\n",
       "      <td>-46.65356350</td>\n",
       "      <td>2102470</td>\n",
       "      <td>1787100</td>\n",
       "      <td>2417840</td>\n",
       "    </tr>\n",
       "    <tr>\n",
       "      <th>3</th>\n",
       "      <td>São Paulo</td>\n",
       "      <td>sp</td>\n",
       "      <td>Avenida Paulista, 1195</td>\n",
       "      <td>Torre única</td>\n",
       "      <td>Apartamento</td>\n",
       "      <td>4</td>\n",
       "      <td>3</td>\n",
       "      <td>223</td>\n",
       "      <td>-23.56406910</td>\n",
       "      <td>-46.65356350</td>\n",
       "      <td>2757950</td>\n",
       "      <td>2344260</td>\n",
       "      <td>3171640</td>\n",
       "    </tr>\n",
       "    <tr>\n",
       "      <th>4</th>\n",
       "      <td>São Paulo</td>\n",
       "      <td>sp</td>\n",
       "      <td>Alameda Santos, 1126</td>\n",
       "      <td>Torre única</td>\n",
       "      <td>Apartamento</td>\n",
       "      <td>3</td>\n",
       "      <td>1</td>\n",
       "      <td>100</td>\n",
       "      <td>-23.56533980</td>\n",
       "      <td>-46.65376750</td>\n",
       "      <td>1125720</td>\n",
       "      <td>956862</td>\n",
       "      <td>1294580</td>\n",
       "    </tr>\n",
       "  </tbody>\n",
       "</table>\n",
       "</div>"
      ],
      "text/plain": [
       "        city state                 address   tower_name building_type  rooms  \\\n",
       "0  São Paulo    sp        Alameda Itu, 254  Torre única   Apartamento      3   \n",
       "1  São Paulo    sp    Alameda Santos, 1398  Torre única   Apartamento      2   \n",
       "2  São Paulo    sp  Avenida Paulista, 1195  Torre única   Apartamento      3   \n",
       "3  São Paulo    sp  Avenida Paulista, 1195  Torre única   Apartamento      4   \n",
       "4  São Paulo    sp    Alameda Santos, 1126  Torre única   Apartamento      3   \n",
       "\n",
       "   garages  useful_area      latitude     longitude  point_estimate  \\\n",
       "0        1          177  -23.56619840  -46.65689950         2111490   \n",
       "1        1           65  -23.56387020  -46.65560060          608870   \n",
       "2        1          170  -23.56406910  -46.65356350         2102470   \n",
       "3        3          223  -23.56406910  -46.65356350         2757950   \n",
       "4        1          100  -23.56533980  -46.65376750         1125720   \n",
       "\n",
       "   minimum_estimate  maximum_estimate  \n",
       "0           1794760           2428210  \n",
       "1            517539            700200  \n",
       "2           1787100           2417840  \n",
       "3           2344260           3171640  \n",
       "4            956862           1294580  "
      ]
     },
     "execution_count": 37,
     "metadata": {},
     "output_type": "execute_result"
    }
   ],
   "source": [
    "df_new.head()"
   ]
  },
  {
   "cell_type": "code",
   "execution_count": 33,
   "metadata": {},
   "outputs": [
    {
     "name": "stdout",
     "output_type": "stream",
     "text": [
      "<class 'pandas.core.frame.DataFrame'>\n",
      "Int64Index: 19742 entries, 0 to 102556\n",
      "Data columns (total 13 columns):\n",
      "city                19742 non-null object\n",
      "state               19742 non-null object\n",
      "address             19742 non-null object\n",
      "tower_name          19742 non-null object\n",
      "building_type       19742 non-null object\n",
      "rooms               19742 non-null int64\n",
      "garages             19742 non-null int64\n",
      "useful_area         19742 non-null int64\n",
      "latitude            19742 non-null object\n",
      "longitude           19742 non-null object\n",
      "point_estimate      19742 non-null int64\n",
      "minimum_estimate    19742 non-null int64\n",
      "maximum_estimate    19742 non-null int64\n",
      "dtypes: int64(6), object(7)\n",
      "memory usage: 2.1+ MB\n"
     ]
    }
   ],
   "source": [
    "df_new.info()"
   ]
  },
  {
   "cell_type": "code",
   "execution_count": 32,
   "metadata": {},
   "outputs": [
    {
     "data": {
      "text/html": [
       "<div>\n",
       "<style scoped>\n",
       "    .dataframe tbody tr th:only-of-type {\n",
       "        vertical-align: middle;\n",
       "    }\n",
       "\n",
       "    .dataframe tbody tr th {\n",
       "        vertical-align: top;\n",
       "    }\n",
       "\n",
       "    .dataframe thead th {\n",
       "        text-align: right;\n",
       "    }\n",
       "</style>\n",
       "<table border=\"1\" class=\"dataframe\">\n",
       "  <thead>\n",
       "    <tr style=\"text-align: right;\">\n",
       "      <th></th>\n",
       "      <th>rooms</th>\n",
       "      <th>garages</th>\n",
       "      <th>useful_area</th>\n",
       "      <th>point_estimate</th>\n",
       "      <th>minimum_estimate</th>\n",
       "      <th>maximum_estimate</th>\n",
       "    </tr>\n",
       "  </thead>\n",
       "  <tbody>\n",
       "    <tr>\n",
       "      <th>count</th>\n",
       "      <td>19742.000000</td>\n",
       "      <td>19742.000000</td>\n",
       "      <td>19742.000000</td>\n",
       "      <td>1.974200e+04</td>\n",
       "      <td>1.974200e+04</td>\n",
       "      <td>1.974200e+04</td>\n",
       "    </tr>\n",
       "    <tr>\n",
       "      <th>mean</th>\n",
       "      <td>2.928832</td>\n",
       "      <td>2.255445</td>\n",
       "      <td>168.837251</td>\n",
       "      <td>1.917338e+06</td>\n",
       "      <td>1.621368e+06</td>\n",
       "      <td>2.216938e+06</td>\n",
       "    </tr>\n",
       "    <tr>\n",
       "      <th>std</th>\n",
       "      <td>0.915978</td>\n",
       "      <td>1.393661</td>\n",
       "      <td>134.835264</td>\n",
       "      <td>2.373717e+06</td>\n",
       "      <td>2.013528e+06</td>\n",
       "      <td>2.739075e+06</td>\n",
       "    </tr>\n",
       "    <tr>\n",
       "      <th>min</th>\n",
       "      <td>1.000000</td>\n",
       "      <td>1.000000</td>\n",
       "      <td>22.000000</td>\n",
       "      <td>1.607560e+05</td>\n",
       "      <td>1.340180e+05</td>\n",
       "      <td>1.848690e+05</td>\n",
       "    </tr>\n",
       "    <tr>\n",
       "      <th>25%</th>\n",
       "      <td>2.000000</td>\n",
       "      <td>1.000000</td>\n",
       "      <td>80.000000</td>\n",
       "      <td>7.311645e+05</td>\n",
       "      <td>6.179312e+05</td>\n",
       "      <td>8.473885e+05</td>\n",
       "    </tr>\n",
       "    <tr>\n",
       "      <th>50%</th>\n",
       "      <td>3.000000</td>\n",
       "      <td>2.000000</td>\n",
       "      <td>127.000000</td>\n",
       "      <td>1.210290e+06</td>\n",
       "      <td>1.024780e+06</td>\n",
       "      <td>1.400100e+06</td>\n",
       "    </tr>\n",
       "    <tr>\n",
       "      <th>75%</th>\n",
       "      <td>4.000000</td>\n",
       "      <td>3.000000</td>\n",
       "      <td>210.000000</td>\n",
       "      <td>2.158208e+06</td>\n",
       "      <td>1.827335e+06</td>\n",
       "      <td>2.495568e+06</td>\n",
       "    </tr>\n",
       "    <tr>\n",
       "      <th>max</th>\n",
       "      <td>8.000000</td>\n",
       "      <td>16.000000</td>\n",
       "      <td>1975.000000</td>\n",
       "      <td>4.773590e+07</td>\n",
       "      <td>4.200760e+07</td>\n",
       "      <td>5.394150e+07</td>\n",
       "    </tr>\n",
       "  </tbody>\n",
       "</table>\n",
       "</div>"
      ],
      "text/plain": [
       "              rooms       garages   useful_area  point_estimate  \\\n",
       "count  19742.000000  19742.000000  19742.000000    1.974200e+04   \n",
       "mean       2.928832      2.255445    168.837251    1.917338e+06   \n",
       "std        0.915978      1.393661    134.835264    2.373717e+06   \n",
       "min        1.000000      1.000000     22.000000    1.607560e+05   \n",
       "25%        2.000000      1.000000     80.000000    7.311645e+05   \n",
       "50%        3.000000      2.000000    127.000000    1.210290e+06   \n",
       "75%        4.000000      3.000000    210.000000    2.158208e+06   \n",
       "max        8.000000     16.000000   1975.000000    4.773590e+07   \n",
       "\n",
       "       minimum_estimate  maximum_estimate  \n",
       "count      1.974200e+04      1.974200e+04  \n",
       "mean       1.621368e+06      2.216938e+06  \n",
       "std        2.013528e+06      2.739075e+06  \n",
       "min        1.340180e+05      1.848690e+05  \n",
       "25%        6.179312e+05      8.473885e+05  \n",
       "50%        1.024780e+06      1.400100e+06  \n",
       "75%        1.827335e+06      2.495568e+06  \n",
       "max        4.200760e+07      5.394150e+07  "
      ]
     },
     "execution_count": 32,
     "metadata": {},
     "output_type": "execute_result"
    }
   ],
   "source": [
    "df_new.describe()"
   ]
  },
  {
   "cell_type": "code",
   "execution_count": 36,
   "metadata": {},
   "outputs": [
    {
     "data": {
      "text/plain": [
       "array([[<matplotlib.axes._subplots.AxesSubplot object at 0x000002F04CEC4710>,\n",
       "        <matplotlib.axes._subplots.AxesSubplot object at 0x000002F04D109D30>],\n",
       "       [<matplotlib.axes._subplots.AxesSubplot object at 0x000002F04D13C080>,\n",
       "        <matplotlib.axes._subplots.AxesSubplot object at 0x000002F04D165390>],\n",
       "       [<matplotlib.axes._subplots.AxesSubplot object at 0x000002F04D18E6A0>,\n",
       "        <matplotlib.axes._subplots.AxesSubplot object at 0x000002F04D18E6D8>]],\n",
       "      dtype=object)"
      ]
     },
     "execution_count": 36,
     "metadata": {},
     "output_type": "execute_result"
    },
    {
     "data": {
      "image/png": "[encoded data removed]",
      "text/plain": [
       "<Figure size 432x288 with 6 Axes>"
      ]
     },
     "metadata": {
      "needs_background": "light"
     },
     "output_type": "display_data"
    }
   ],
   "source": [
    "df_new.hist()"
   ]
  },
  {
   "cell_type": "code",
   "execution_count": 41,
   "metadata": {},
   "outputs": [],
   "source": [
    "df_new_v2 = fnc_Dummies(df_new)"
   ]
  },
  {
   "cell_type": "code",
   "execution_count": 45,
   "metadata": {},
   "outputs": [
    {
     "data": {
      "image/png": "[encoded data removed]",
      "text/plain": [
       "<Figure size 432x288 with 1 Axes>"
      ]
     },
     "metadata": {
      "needs_background": "light"
     },
     "output_type": "display_data"
    },
    {
     "data": {
      "image/png": "[encoded data removed]",
      "text/plain": [
       "<Figure size 432x288 with 1 Axes>"
      ]
     },
     "metadata": {
      "needs_background": "light"
     },
     "output_type": "display_data"
    },
    {
     "data": {
      "image/png": "[encoded data removed]",
      "text/plain": [
       "<Figure size 432x288 with 1 Axes>"
      ]
     },
     "metadata": {
      "needs_background": "light"
     },
     "output_type": "display_data"
    },
    {
     "data": {
      "image/png": "[encoded data removed]",
      "text/plain": [
       "<Figure size 432x288 with 1 Axes>"
      ]
     },
     "metadata": {
      "needs_background": "light"
     },
     "output_type": "display_data"
    },
    {
     "data": {
      "image/png": "[encoded data removed]",
      "text/plain": [
       "<Figure size 432x288 with 1 Axes>"
      ]
     },
     "metadata": {
      "needs_background": "light"
     },
     "output_type": "display_data"
    },
    {
     "data": {
      "image/png": "[encoded data removed]",
      "text/plain": [
       "<Figure size 432x288 with 1 Axes>"
      ]
     },
     "metadata": {
      "needs_background": "light"
     },
     "output_type": "display_data"
    },
    {
     "data": {
      "image/png": "[encoded data removed]",
      "text/plain": [
       "<Figure size 432x288 with 1 Axes>"
      ]
     },
     "metadata": {
      "needs_background": "light"
     },
     "output_type": "display_data"
    },
    {
     "data": {
      "image/png": "[encoded data removed]",
      "text/plain": [
       "<Figure size 432x288 with 1 Axes>"
      ]
     },
     "metadata": {
      "needs_background": "light"
     },
     "output_type": "display_data"
    },
    {
     "data": {
      "image/png": "[encoded data removed]",
      "text/plain": [
       "<Figure size 432x288 with 1 Axes>"
      ]
     },
     "metadata": {
      "needs_background": "light"
     },
     "output_type": "display_data"
    },
    {
     "data": {
      "image/png": "[encoded data removed]",
      "text/plain": [
       "<Figure size 432x288 with 1 Axes>"
      ]
     },
     "metadata": {
      "needs_background": "light"
     },
     "output_type": "display_data"
    },
    {
     "data": {
      "image/png": "[encoded data removed]",
      "text/plain": [
       "<Figure size 432x288 with 1 Axes>"
      ]
     },
     "metadata": {
      "needs_background": "light"
     },
     "output_type": "display_data"
    },
    {
     "data": {
      "image/png": "[encoded data removed]",
      "text/plain": [
       "<Figure size 432x288 with 1 Axes>"
      ]
     },
     "metadata": {
      "needs_background": "light"
     },
     "output_type": "display_data"
    },
    {
     "data": {
      "image/png": "[encoded data removed]",
      "text/plain": [
       "<Figure size 432x288 with 1 Axes>"
      ]
     },
     "metadata": {
      "needs_background": "light"
     },
     "output_type": "display_data"
    }
   ],
   "source": [
    "colunas = df_new_v2.columns\n",
    "\n",
    "# Histogramas\n",
    "for coluna in colunas:\n",
    "    fig, ax = plt.subplots()\n",
    "    plt.hist(df_new_v2[coluna])\n",
    "    plt.ylabel(coluna)\n",
    "    plt.xlabel('count')\n",
    "    plt.title(coluna)"
   ]
  },
  {
   "cell_type": "code",
   "execution_count": 47,
   "metadata": {},
   "outputs": [
    {
     "data": {
      "text/plain": [
       "<matplotlib.axes._subplots.AxesSubplot at 0x2f0569a32e8>"
      ]
     },
     "execution_count": 47,
     "metadata": {},
     "output_type": "execute_result"
    },
    {
     "data": {
      "image/png": "[encoded data removed]",
      "text/plain": [
       "<Figure size 432x288 with 2 Axes>"
      ]
     },
     "metadata": {
      "needs_background": "light"
     },
     "output_type": "display_data"
    }
   ],
   "source": [
    "# Matriz de Correlação de Pearson\n",
    "corr = df_new_v2.corr()\n",
    "\n",
    "# Generate a mask for the upper triangle\n",
    "mask = np.zeros_like(corr, dtype=np.bool)\n",
    "mask[np.triu_indices_from(mask)] = True\n",
    "\n",
    "# Set up the matplotlib figure\n",
    "f, ax = plt.subplots()\n",
    "\n",
    "# Generate a custom diverging colormap\n",
    "cmap = sns.diverging_palette(10, 220, as_cmap=True)\n",
    "\n",
    "# Draw the heatmap with the mask and correct aspect ratio\n",
    "sns.heatmap(corr, mask=mask, cmap=cmap, vmax=.3, center=0, annot=False, annot_kws={\"size\": 15}, \n",
    "            square=True, linewidths=.5, cbar_kws={\"shrink\": .5})"
   ]
  },
  {
   "cell_type": "code",
   "execution_count": 48,
   "metadata": {},
   "outputs": [
    {
     "data": {
      "text/html": [
       "<div>\n",
       "<style scoped>\n",
       "    .dataframe tbody tr th:only-of-type {\n",
       "        vertical-align: middle;\n",
       "    }\n",
       "\n",
       "    .dataframe tbody tr th {\n",
       "        vertical-align: top;\n",
       "    }\n",
       "\n",
       "    .dataframe thead th {\n",
       "        text-align: right;\n",
       "    }\n",
       "</style>\n",
       "<table border=\"1\" class=\"dataframe\">\n",
       "  <thead>\n",
       "    <tr style=\"text-align: right;\">\n",
       "      <th></th>\n",
       "      <th>city</th>\n",
       "      <th>state</th>\n",
       "      <th>address</th>\n",
       "      <th>tower_name</th>\n",
       "      <th>building_type</th>\n",
       "      <th>rooms</th>\n",
       "      <th>garages</th>\n",
       "      <th>useful_area</th>\n",
       "      <th>latitude</th>\n",
       "      <th>longitude</th>\n",
       "      <th>point_estimate</th>\n",
       "      <th>minimum_estimate</th>\n",
       "      <th>maximum_estimate</th>\n",
       "    </tr>\n",
       "  </thead>\n",
       "  <tbody>\n",
       "    <tr>\n",
       "      <th>city</th>\n",
       "      <td>1.000000</td>\n",
       "      <td>0.325745</td>\n",
       "      <td>0.041033</td>\n",
       "      <td>-0.012846</td>\n",
       "      <td>0.025949</td>\n",
       "      <td>-0.008750</td>\n",
       "      <td>0.023923</td>\n",
       "      <td>0.026966</td>\n",
       "      <td>-0.189234</td>\n",
       "      <td>-0.184565</td>\n",
       "      <td>0.035869</td>\n",
       "      <td>0.036426</td>\n",
       "      <td>0.035383</td>\n",
       "    </tr>\n",
       "    <tr>\n",
       "      <th>state</th>\n",
       "      <td>0.325745</td>\n",
       "      <td>1.000000</td>\n",
       "      <td>0.016187</td>\n",
       "      <td>-0.005663</td>\n",
       "      <td>0.006858</td>\n",
       "      <td>-0.012621</td>\n",
       "      <td>0.007588</td>\n",
       "      <td>0.000592</td>\n",
       "      <td>-0.049620</td>\n",
       "      <td>-0.045551</td>\n",
       "      <td>0.006026</td>\n",
       "      <td>0.005897</td>\n",
       "      <td>0.006155</td>\n",
       "    </tr>\n",
       "    <tr>\n",
       "      <th>address</th>\n",
       "      <td>0.041033</td>\n",
       "      <td>0.016187</td>\n",
       "      <td>1.000000</td>\n",
       "      <td>0.158479</td>\n",
       "      <td>0.007590</td>\n",
       "      <td>-0.038615</td>\n",
       "      <td>0.000804</td>\n",
       "      <td>-0.018312</td>\n",
       "      <td>-0.043048</td>\n",
       "      <td>-0.045536</td>\n",
       "      <td>-0.015179</td>\n",
       "      <td>-0.015290</td>\n",
       "      <td>-0.015033</td>\n",
       "    </tr>\n",
       "    <tr>\n",
       "      <th>tower_name</th>\n",
       "      <td>-0.012846</td>\n",
       "      <td>-0.005663</td>\n",
       "      <td>0.158479</td>\n",
       "      <td>1.000000</td>\n",
       "      <td>-0.020576</td>\n",
       "      <td>-0.097992</td>\n",
       "      <td>-0.045411</td>\n",
       "      <td>-0.020795</td>\n",
       "      <td>-0.049523</td>\n",
       "      <td>-0.128049</td>\n",
       "      <td>0.000744</td>\n",
       "      <td>-0.000345</td>\n",
       "      <td>0.001709</td>\n",
       "    </tr>\n",
       "    <tr>\n",
       "      <th>building_type</th>\n",
       "      <td>0.025949</td>\n",
       "      <td>0.006858</td>\n",
       "      <td>0.007590</td>\n",
       "      <td>-0.020576</td>\n",
       "      <td>1.000000</td>\n",
       "      <td>0.234704</td>\n",
       "      <td>0.410899</td>\n",
       "      <td>0.482680</td>\n",
       "      <td>0.042712</td>\n",
       "      <td>0.073585</td>\n",
       "      <td>0.357628</td>\n",
       "      <td>0.357755</td>\n",
       "      <td>0.357177</td>\n",
       "    </tr>\n",
       "    <tr>\n",
       "      <th>rooms</th>\n",
       "      <td>-0.008750</td>\n",
       "      <td>-0.012621</td>\n",
       "      <td>-0.038615</td>\n",
       "      <td>-0.097992</td>\n",
       "      <td>0.234704</td>\n",
       "      <td>1.000000</td>\n",
       "      <td>0.651369</td>\n",
       "      <td>0.629489</td>\n",
       "      <td>0.011505</td>\n",
       "      <td>0.098699</td>\n",
       "      <td>0.473961</td>\n",
       "      <td>0.473616</td>\n",
       "      <td>0.473927</td>\n",
       "    </tr>\n",
       "    <tr>\n",
       "      <th>garages</th>\n",
       "      <td>0.023923</td>\n",
       "      <td>0.007588</td>\n",
       "      <td>0.000804</td>\n",
       "      <td>-0.045411</td>\n",
       "      <td>0.410899</td>\n",
       "      <td>0.651369</td>\n",
       "      <td>1.000000</td>\n",
       "      <td>0.790724</td>\n",
       "      <td>0.065881</td>\n",
       "      <td>0.136143</td>\n",
       "      <td>0.709306</td>\n",
       "      <td>0.709375</td>\n",
       "      <td>0.708815</td>\n",
       "    </tr>\n",
       "    <tr>\n",
       "      <th>useful_area</th>\n",
       "      <td>0.026966</td>\n",
       "      <td>0.000592</td>\n",
       "      <td>-0.018312</td>\n",
       "      <td>-0.020795</td>\n",
       "      <td>0.482680</td>\n",
       "      <td>0.629489</td>\n",
       "      <td>0.790724</td>\n",
       "      <td>1.000000</td>\n",
       "      <td>-0.000889</td>\n",
       "      <td>0.125939</td>\n",
       "      <td>0.876838</td>\n",
       "      <td>0.876474</td>\n",
       "      <td>0.876665</td>\n",
       "    </tr>\n",
       "    <tr>\n",
       "      <th>latitude</th>\n",
       "      <td>-0.189234</td>\n",
       "      <td>-0.049620</td>\n",
       "      <td>-0.043048</td>\n",
       "      <td>-0.049523</td>\n",
       "      <td>0.042712</td>\n",
       "      <td>0.011505</td>\n",
       "      <td>0.065881</td>\n",
       "      <td>-0.000889</td>\n",
       "      <td>1.000000</td>\n",
       "      <td>0.164555</td>\n",
       "      <td>-0.018255</td>\n",
       "      <td>-0.016987</td>\n",
       "      <td>-0.019374</td>\n",
       "    </tr>\n",
       "    <tr>\n",
       "      <th>longitude</th>\n",
       "      <td>-0.184565</td>\n",
       "      <td>-0.045551</td>\n",
       "      <td>-0.045536</td>\n",
       "      <td>-0.128049</td>\n",
       "      <td>0.073585</td>\n",
       "      <td>0.098699</td>\n",
       "      <td>0.136143</td>\n",
       "      <td>0.125939</td>\n",
       "      <td>0.164555</td>\n",
       "      <td>1.000000</td>\n",
       "      <td>0.105368</td>\n",
       "      <td>0.105983</td>\n",
       "      <td>0.104714</td>\n",
       "    </tr>\n",
       "    <tr>\n",
       "      <th>point_estimate</th>\n",
       "      <td>0.035869</td>\n",
       "      <td>0.006026</td>\n",
       "      <td>-0.015179</td>\n",
       "      <td>0.000744</td>\n",
       "      <td>0.357628</td>\n",
       "      <td>0.473961</td>\n",
       "      <td>0.709306</td>\n",
       "      <td>0.876838</td>\n",
       "      <td>-0.018255</td>\n",
       "      <td>0.105368</td>\n",
       "      <td>1.000000</td>\n",
       "      <td>0.999694</td>\n",
       "      <td>0.999837</td>\n",
       "    </tr>\n",
       "    <tr>\n",
       "      <th>minimum_estimate</th>\n",
       "      <td>0.036426</td>\n",
       "      <td>0.005897</td>\n",
       "      <td>-0.015290</td>\n",
       "      <td>-0.000345</td>\n",
       "      <td>0.357755</td>\n",
       "      <td>0.473616</td>\n",
       "      <td>0.709375</td>\n",
       "      <td>0.876474</td>\n",
       "      <td>-0.016987</td>\n",
       "      <td>0.105983</td>\n",
       "      <td>0.999694</td>\n",
       "      <td>1.000000</td>\n",
       "      <td>0.999096</td>\n",
       "    </tr>\n",
       "    <tr>\n",
       "      <th>maximum_estimate</th>\n",
       "      <td>0.035383</td>\n",
       "      <td>0.006155</td>\n",
       "      <td>-0.015033</td>\n",
       "      <td>0.001709</td>\n",
       "      <td>0.357177</td>\n",
       "      <td>0.473927</td>\n",
       "      <td>0.708815</td>\n",
       "      <td>0.876665</td>\n",
       "      <td>-0.019374</td>\n",
       "      <td>0.104714</td>\n",
       "      <td>0.999837</td>\n",
       "      <td>0.999096</td>\n",
       "      <td>1.000000</td>\n",
       "    </tr>\n",
       "  </tbody>\n",
       "</table>\n",
       "</div>"
      ],
      "text/plain": [
       "                      city     state   address  tower_name  building_type  \\\n",
       "city              1.000000  0.325745  0.041033   -0.012846       0.025949   \n",
       "state             0.325745  1.000000  0.016187   -0.005663       0.006858   \n",
       "address           0.041033  0.016187  1.000000    0.158479       0.007590   \n",
       "tower_name       -0.012846 -0.005663  0.158479    1.000000      -0.020576   \n",
       "building_type     0.025949  0.006858  0.007590   -0.020576       1.000000   \n",
       "rooms            -0.008750 -0.012621 -0.038615   -0.097992       0.234704   \n",
       "garages           0.023923  0.007588  0.000804   -0.045411       0.410899   \n",
       "useful_area       0.026966  0.000592 -0.018312   -0.020795       0.482680   \n",
       "latitude         -0.189234 -0.049620 -0.043048   -0.049523       0.042712   \n",
       "longitude        -0.184565 -0.045551 -0.045536   -0.128049       0.073585   \n",
       "point_estimate    0.035869  0.006026 -0.015179    0.000744       0.357628   \n",
       "minimum_estimate  0.036426  0.005897 -0.015290   -0.000345       0.357755   \n",
       "maximum_estimate  0.035383  0.006155 -0.015033    0.001709       0.357177   \n",
       "\n",
       "                     rooms   garages  useful_area  latitude  longitude  \\\n",
       "city             -0.008750  0.023923     0.026966 -0.189234  -0.184565   \n",
       "state            -0.012621  0.007588     0.000592 -0.049620  -0.045551   \n",
       "address          -0.038615  0.000804    -0.018312 -0.043048  -0.045536   \n",
       "tower_name       -0.097992 -0.045411    -0.020795 -0.049523  -0.128049   \n",
       "building_type     0.234704  0.410899     0.482680  0.042712   0.073585   \n",
       "rooms             1.000000  0.651369     0.629489  0.011505   0.098699   \n",
       "garages           0.651369  1.000000     0.790724  0.065881   0.136143   \n",
       "useful_area       0.629489  0.790724     1.000000 -0.000889   0.125939   \n",
       "latitude          0.011505  0.065881    -0.000889  1.000000   0.164555   \n",
       "longitude         0.098699  0.136143     0.125939  0.164555   1.000000   \n",
       "point_estimate    0.473961  0.709306     0.876838 -0.018255   0.105368   \n",
       "minimum_estimate  0.473616  0.709375     0.876474 -0.016987   0.105983   \n",
       "maximum_estimate  0.473927  0.708815     0.876665 -0.019374   0.104714   \n",
       "\n",
       "                  point_estimate  minimum_estimate  maximum_estimate  \n",
       "city                    0.035869          0.036426          0.035383  \n",
       "state                   0.006026          0.005897          0.006155  \n",
       "address                -0.015179         -0.015290         -0.015033  \n",
       "tower_name              0.000744         -0.000345          0.001709  \n",
       "building_type           0.357628          0.357755          0.357177  \n",
       "rooms                   0.473961          0.473616          0.473927  \n",
       "garages                 0.709306          0.709375          0.708815  \n",
       "useful_area             0.876838          0.876474          0.876665  \n",
       "latitude               -0.018255         -0.016987         -0.019374  \n",
       "longitude               0.105368          0.105983          0.104714  \n",
       "point_estimate          1.000000          0.999694          0.999837  \n",
       "minimum_estimate        0.999694          1.000000          0.999096  \n",
       "maximum_estimate        0.999837          0.999096          1.000000  "
      ]
     },
     "execution_count": 48,
     "metadata": {},
     "output_type": "execute_result"
    }
   ],
   "source": [
    "corr"
   ]
  }
 ],
 "metadata": {
  "kernelspec": {
   "display_name": "Python 3",
   "language": "python",
   "name": "python3"
  },
  "language_info": {
   "codemirror_mode": {
    "name": "ipython",
    "version": 3
   },
   "file_extension": ".py",
   "mimetype": "text/x-python",
   "name": "python",
   "nbconvert_exporter": "python",
   "pygments_lexer": "ipython3",
   "version": "3.6.5"
  }
 },
 "nbformat": 4,
 "nbformat_minor": 2
}
